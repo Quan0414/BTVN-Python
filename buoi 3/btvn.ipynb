{
  "nbformat": 4,
  "nbformat_minor": 0,
  "metadata": {
    "colab": {
      "provenance": []
    },
    "kernelspec": {
      "name": "python3",
      "display_name": "Python 3"
    },
    "language_info": {
      "name": "python"
    }
  },
  "cells": [
    {
      "cell_type": "markdown",
      "source": [
        "Problem 1\n"
      ],
      "metadata": {
        "id": "ZwHkDoFJ2uxS"
      }
    },
    {
      "cell_type": "markdown",
      "source": [
        "1.\n"
      ],
      "metadata": {
        "id": "3Muad3Gh2941"
      }
    },
    {
      "cell_type": "code",
      "source": [
        "n = 100\n",
        "\n",
        "def gt(n):\n",
        "    if n == 0:\n",
        "        return 1\n",
        "    return n * gt(n - 1)\n",
        "\n",
        "x = int(input(\"nhap x: \"))\n",
        "ans = 1\n",
        "for i in range(1, n + 1):\n",
        "    ans += float(x ** i / gt(i))\n",
        "\n",
        "print(ans)\n"
      ],
      "metadata": {
        "id": "9FFL_A_W2xu9"
      },
      "execution_count": null,
      "outputs": []
    },
    {
      "cell_type": "markdown",
      "source": [
        "2.\n"
      ],
      "metadata": {
        "id": "4jEkeZrZ3DEp"
      }
    },
    {
      "cell_type": "code",
      "source": [
        "def gt(n):\n",
        "    if n == 0:\n",
        "        return 1\n",
        "    return n * gt(n - 1)\n",
        "\n",
        "n = int(input(\"nhap n: \"))\n",
        "ans = 0\n",
        "\n",
        "for i in range(1, n + 1):\n",
        "    ans += float(1 / gt(i))\n",
        "\n",
        "print(ans)"
      ],
      "metadata": {
        "id": "La-xvBnb3D05"
      },
      "execution_count": null,
      "outputs": []
    },
    {
      "cell_type": "markdown",
      "source": [
        "Problem 2\n"
      ],
      "metadata": {
        "id": "HLaQNyZz35kc"
      }
    },
    {
      "cell_type": "code",
      "source": [
        "def cnt(n):\n",
        "    if n <= 2:\n",
        "        return 0\n",
        "    return int((n - 1) ** 0.5) - 1\n",
        "\n",
        "n = int(input(\"nhap n: \"))\n",
        "print(cnt(n))\n"
      ],
      "metadata": {
        "id": "K9Fob9x44Aqf"
      },
      "execution_count": null,
      "outputs": []
    },
    {
      "cell_type": "markdown",
      "source": [
        "Problem 3"
      ],
      "metadata": {
        "id": "lm823J1X5ycw"
      }
    },
    {
      "cell_type": "code",
      "source": [
        "def hocluc(x):\n",
        "    if x >= 190:\n",
        "        return \"Xuất sắc\"\n",
        "    elif x >= 150:\n",
        "        return \"Giỏi\"\n",
        "    elif x >= 100:\n",
        "        return \"Khá\"\n",
        "    else:\n",
        "        return \"Yếu\"\n",
        "\n",
        "sl = int(input())\n",
        "cnt = 1\n",
        "\n",
        "while sl > 0:\n",
        "    name = input(\"nhap ten: \")\n",
        "    b1 = int(input())\n",
        "    b2 = int(input())\n",
        "    sum = b1 + b2\n",
        "\n",
        "    print(cnt, name, sum, hocluc(sum))\n",
        "    cnt += 1\n"
      ],
      "metadata": {
        "id": "QI2KkoZm50z-"
      },
      "execution_count": null,
      "outputs": []
    },
    {
      "cell_type": "markdown",
      "source": [
        "Problem 4"
      ],
      "metadata": {
        "id": "hKptx20n81mZ"
      }
    },
    {
      "cell_type": "code",
      "source": [
        "import re\n",
        "\n",
        "email = input('Nhap email:  ')\n",
        "check = r'^\\w+@\\w+\\.\\w+$'\n",
        "\n",
        "if re.match(check,email):\n",
        "  print(\"Email hop le\")\n",
        "else:\n",
        "  print(\"Email khong hop le\")"
      ],
      "metadata": {
        "id": "qhrba5d6829b"
      },
      "execution_count": null,
      "outputs": []
    },
    {
      "cell_type": "markdown",
      "source": [
        "Problem 5"
      ],
      "metadata": {
        "id": "WXd7zWKxc1MY"
      }
    },
    {
      "cell_type": "code",
      "source": [
        "sl = int(input(\"so luong: \"))\n",
        "animals = []\n",
        "kg = []\n",
        "\n",
        "for i in range(sl):\n",
        "    animals.append(input())\n",
        "for i in range(sl):\n",
        "    kg.append(float(input()))\n",
        "\n",
        "zip_animals_kg = zip(animals, kg)\n",
        "print(\"daily_descriptions:\", list(zip_animals_kg))\n",
        "\n",
        "tongkg = 0\n",
        "for i in kg:\n",
        "    if i >= 5:\n",
        "        tongkg += i\n",
        "    if i > 100:\n",
        "        break\n",
        "print(\"total_food:\", tongkg)\n",
        "\n",
        "maxkg = max(kg)\n",
        "index = kg.index(maxkg)\n",
        "print(\"top_eater:\", animals[index])\n",
        "\n",
        "minkg = min(kg)\n",
        "index2 = kg.index(minkg)\n",
        "for i in kg:\n",
        "    if i < 5:\n",
        "        print(\"lowest_eater_index:\", index2 + 1)\n",
        "        break"
      ],
      "metadata": {
        "id": "FOVb-QUniRFF"
      },
      "execution_count": null,
      "outputs": []
    },
    {
      "cell_type": "markdown",
      "source": [
        "Problem 6"
      ],
      "metadata": {
        "id": "nIxMlQYMn5vW"
      }
    },
    {
      "cell_type": "code",
      "source": [
        "import math\n",
        "\n",
        "def binary(x):\n",
        "    if x < 0:\n",
        "         return 0\n",
        "    else:\n",
        "         return 1\n",
        "\n",
        "def sigmoid(x):\n",
        "    return 1 / (1 + math.exp(-x))\n",
        "\n",
        "def ELU(x):\n",
        "    alpha = 0.01\n",
        "    if x < 0:\n",
        "        return alpha * (math.exp(x) - 1)\n",
        "    else:\n",
        "        return x\n",
        "\n",
        "def is_number(x):\n",
        "    try:\n",
        "        float(x)\n",
        "        return True\n",
        "    except ValueError:\n",
        "        return False\n",
        "\n",
        "x = input(\"nhap x: \")\n",
        "if not is_number(x):\n",
        "    print(\"x must be a number\")\n",
        "else:\n",
        "    x = float(x)\n",
        "    while True:\n",
        "        fx = input(\"nhap fx: \")\n",
        "        if fx == \"binary\" or fx == \"sigmoid\" or fx == \"ELU\":\n",
        "            break\n",
        "        else:\n",
        "            print(fx, \"is not supported\")\n",
        "\n",
        "    if fx == \"binary\":\n",
        "        print(binary(x))\n",
        "    elif fx == \"sigmoid\":\n",
        "        print(sigmoid(x))\n",
        "    else:\n",
        "        print(ELU(x))\n"
      ],
      "metadata": {
        "id": "oGFPETjrn7QQ"
      },
      "execution_count": null,
      "outputs": []
    }
  ]
}